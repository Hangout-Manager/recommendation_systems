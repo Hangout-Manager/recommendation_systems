{
 "cells": [
  {
   "cell_type": "markdown",
   "metadata": {},
   "source": [
    "# 遊びレコメンドモデル"
   ]
  },
  {
   "cell_type": "markdown",
   "metadata": {},
   "source": [
    "------------------------------------------------"
   ]
  },
  {
   "cell_type": "markdown",
   "metadata": {},
   "source": [
    "## 長期トレンドモデル"
   ]
  },
  {
   "cell_type": "code",
   "execution_count": 52,
   "metadata": {},
   "outputs": [],
   "source": [
    "import numpy as np\n",
    "import pandas as pd\n",
    "import matplotlib.pyplot as plt\n",
    "from sklearn import preprocessing\n",
    "\n",
    "mm = preprocessing.MinMaxScaler()\n",
    "\n",
    "filename = \"./data/hangout.csv\"\n",
    "data = pd.read_csv(filename, index_col=0)\n",
    "data.iloc[:,:] = mm.fit_transform(data)"
   ]
  },
  {
   "cell_type": "code",
   "execution_count": 53,
   "metadata": {},
   "outputs": [
    {
     "name": "stdout",
     "output_type": "stream",
     "text": [
      "魚市場\n",
      "ハイキング\n",
      "ゲームセンター\n",
      "イルミネーション\n",
      "イルミネーション\n",
      "陶芸・ガラス・手作り体験\n",
      "占い\n",
      "天体観測\n",
      "占い\n",
      "ショッピング\n",
      "コンセプトバー\n",
      "日帰り温泉\n",
      "アニマルカフェ\n",
      "陶芸・ガラス・手作り体験\n",
      "魚市場\n",
      "料理\n",
      "フルーツ狩り\n",
      "脱出ゲーム\n",
      "ゲームセンター\n",
      "ビリヤード\n",
      "カラオケ\n",
      "花火大会\n",
      "イルミネーション\n",
      "音楽教室・体験\n",
      "アニマルカフェ\n",
      "ビリヤード\n",
      "エステ・マッサージ\n",
      "天体観測\n",
      "宅飲み\n",
      "日帰り温泉\n"
     ]
    }
   ],
   "source": [
    "for i in range(30):\n",
    "    rand = np.random.randint(0, len(data))\n",
    "    print(data.index[rand])"
   ]
  },
  {
   "cell_type": "code",
   "execution_count": 54,
   "metadata": {},
   "outputs": [
    {
     "data": {
      "text/html": [
       "<div>\n",
       "<style scoped>\n",
       "    .dataframe tbody tr th:only-of-type {\n",
       "        vertical-align: middle;\n",
       "    }\n",
       "\n",
       "    .dataframe tbody tr th {\n",
       "        vertical-align: top;\n",
       "    }\n",
       "\n",
       "    .dataframe thead th {\n",
       "        text-align: right;\n",
       "    }\n",
       "</style>\n",
       "<table border=\"1\" class=\"dataframe\">\n",
       "  <thead>\n",
       "    <tr style=\"text-align: right;\">\n",
       "      <th></th>\n",
       "      <th>アゴン(競争を伴う遊び)</th>\n",
       "      <th>アレア(運やかけを伴う遊び)</th>\n",
       "      <th>ミミクリ(真似・模倣を伴う遊び)</th>\n",
       "      <th>イリンクス(目眩やスリルを伴う遊び)</th>\n",
       "    </tr>\n",
       "  </thead>\n",
       "  <tbody>\n",
       "    <tr>\n",
       "      <th>ショッピング</th>\n",
       "      <td>0.0</td>\n",
       "      <td>0.0</td>\n",
       "      <td>0.4</td>\n",
       "      <td>0.0</td>\n",
       "    </tr>\n",
       "    <tr>\n",
       "      <th>魚市場</th>\n",
       "      <td>0.0</td>\n",
       "      <td>0.0</td>\n",
       "      <td>0.0</td>\n",
       "      <td>0.3</td>\n",
       "    </tr>\n",
       "    <tr>\n",
       "      <th>日帰り温泉</th>\n",
       "      <td>0.0</td>\n",
       "      <td>0.0</td>\n",
       "      <td>0.0</td>\n",
       "      <td>0.3</td>\n",
       "    </tr>\n",
       "    <tr>\n",
       "      <th>トレッキング</th>\n",
       "      <td>0.0</td>\n",
       "      <td>0.0</td>\n",
       "      <td>0.0</td>\n",
       "      <td>0.8</td>\n",
       "    </tr>\n",
       "    <tr>\n",
       "      <th>ゲームセンター</th>\n",
       "      <td>0.1</td>\n",
       "      <td>0.7</td>\n",
       "      <td>0.0</td>\n",
       "      <td>0.1</td>\n",
       "    </tr>\n",
       "  </tbody>\n",
       "</table>\n",
       "</div>"
      ],
      "text/plain": [
       "         アゴン(競争を伴う遊び)  アレア(運やかけを伴う遊び)  ミミクリ(真似・模倣を伴う遊び)  イリンクス(目眩やスリルを伴う遊び)\n",
       "ショッピング            0.0             0.0               0.4                 0.0\n",
       "魚市場               0.0             0.0               0.0                 0.3\n",
       "日帰り温泉             0.0             0.0               0.0                 0.3\n",
       "トレッキング            0.0             0.0               0.0                 0.8\n",
       "ゲームセンター           0.1             0.7               0.0                 0.1"
      ]
     },
     "execution_count": 54,
     "metadata": {},
     "output_type": "execute_result"
    }
   ],
   "source": [
    "user = data.loc[[\"ショッピング\",\"魚市場\",\"日帰り温泉\",\"トレッキング\",\"ゲームセンター\"]]\n",
    "user"
   ]
  },
  {
   "cell_type": "code",
   "execution_count": 55,
   "metadata": {},
   "outputs": [],
   "source": [
    "user_lterm = user.mean(axis=0)"
   ]
  },
  {
   "cell_type": "code",
   "execution_count": 56,
   "metadata": {},
   "outputs": [
    {
     "data": {
      "text/plain": [
       "アゴン(競争を伴う遊び)          0.02\n",
       "アレア(運やかけを伴う遊び)        0.14\n",
       "ミミクリ(真似・模倣を伴う遊び)      0.08\n",
       "イリンクス(目眩やスリルを伴う遊び)    0.30\n",
       "dtype: float64"
      ]
     },
     "execution_count": 56,
     "metadata": {},
     "output_type": "execute_result"
    }
   ],
   "source": [
    "user_lterm"
   ]
  },
  {
   "cell_type": "code",
   "execution_count": 57,
   "metadata": {},
   "outputs": [
    {
     "data": {
      "text/plain": [
       "array([0.72965745, 0.25768197, 0.33823069, 0.22449944, 0.43174066,\n",
       "       0.71860977, 0.94042544, 0.34117444, 1.0892199 , 0.60530984,\n",
       "       0.93509358, 0.76052613, 0.28      , 1.00119928, 0.77097341,\n",
       "       0.22      , 0.70313583, 0.88453378, 0.45431267, 0.42473521,\n",
       "       0.43405069, 0.34117444, 0.75657121, 0.79271685, 0.19078784,\n",
       "       0.16248077, 0.25768197, 0.14282857, 0.16248077, 0.27276363,\n",
       "       0.16248077, 0.16248077, 0.16248077, 1.12623266, 0.91454907,\n",
       "       0.25768197, 0.36386811, 0.61676576, 0.76052613, 0.63592452,\n",
       "       0.21071308, 0.57480431, 0.46086874, 0.26153394, 0.64373908,\n",
       "       0.64373908, 0.25768197, 0.34117444, 0.52573758, 0.71161787,\n",
       "       0.99418308])"
      ]
     },
     "execution_count": 57,
     "metadata": {},
     "output_type": "execute_result"
    }
   ],
   "source": [
    "result = np.linalg.norm(data - user_lterm, axis=1)\n",
    "result"
   ]
  },
  {
   "cell_type": "code",
   "execution_count": 58,
   "metadata": {},
   "outputs": [
    {
     "data": {
      "text/plain": [
       "array([27, 25, 32, 31, 30, 28, 24, 40, 15,  3,  1, 35, 26, 46, 43, 29, 12,\n",
       "        2, 47,  7, 21, 36, 19,  4, 20, 18, 42, 48, 41,  9, 37, 39, 44, 45,\n",
       "       16, 49,  5,  0, 22, 38, 11, 14, 23, 17, 34, 10,  6, 50, 13,  8, 33])"
      ]
     },
     "execution_count": 58,
     "metadata": {},
     "output_type": "execute_result"
    }
   ],
   "source": [
    "rank = np.argsort(result)\n",
    "rank"
   ]
  },
  {
   "cell_type": "code",
   "execution_count": 59,
   "metadata": {},
   "outputs": [
    {
     "name": "stdout",
     "output_type": "stream",
     "text": [
      "おすすめ度No.1 >> 日帰りツアー\n",
      "おすすめ度No.2 >> 日帰り温泉\n",
      "おすすめ度No.3 >> 酒造見学\n",
      "おすすめ度No.4 >> 魚市場\n",
      "おすすめ度No.5 >> 花火大会\n"
     ]
    }
   ],
   "source": [
    "print(\"おすすめ度No.1 >> {}\".format(data.iloc[rank[0]].name))\n",
    "print(\"おすすめ度No.2 >> {}\".format(data.iloc[rank[1]].name))\n",
    "print(\"おすすめ度No.3 >> {}\".format(data.iloc[rank[2]].name))\n",
    "print(\"おすすめ度No.4 >> {}\".format(data.iloc[rank[3]].name))\n",
    "print(\"おすすめ度No.5 >> {}\".format(data.iloc[rank[4]].name))"
   ]
  },
  {
   "cell_type": "markdown",
   "metadata": {},
   "source": [
    "----------------------------------------------------------------"
   ]
  },
  {
   "cell_type": "markdown",
   "metadata": {},
   "source": [
    "## 短期トレンドモデル"
   ]
  },
  {
   "cell_type": "markdown",
   "metadata": {},
   "source": [
    "Question1: 非日常を体験したいですか?  \n",
    "0:したくない  …  4:したい\n",
    "\n",
    "Question2: ゆったりのんびり遊びたいですか? エキサイティングな遊びをしたいですか?  \n",
    "0:ゆったりのんびり  …  4:エキサイティング"
   ]
  },
  {
   "cell_type": "code",
   "execution_count": 120,
   "metadata": {},
   "outputs": [],
   "source": [
    "q1 = (3 * 25) / 100\n",
    "q2 = (3 * 25) / 100"
   ]
  },
  {
   "cell_type": "markdown",
   "metadata": {},
   "source": [
    "アゴンの上昇 = q1が低 + q2が高  \n",
    "アレアの上昇 = q1が低 + q2が低  \n",
    "ミミクリの上昇 = q1が高 + q2が低  \n",
    "イリンクスの上昇 = q1が高 + q2が高"
   ]
  },
  {
   "cell_type": "code",
   "execution_count": 121,
   "metadata": {},
   "outputs": [],
   "source": [
    "alpha = 0.75\n",
    "\n",
    "agon    = alpha * user_lterm[0] + (1 - alpha) * 0.5 * ((1-q1) + q2)\n",
    "alea    = alpha * user_lterm[1] + (1 - alpha) * 0.5 * ((1-q1) + (1-q2))\n",
    "mimicry = alpha * user_lterm[2] + (1 - alpha) * 0.5 * (q1 + (1-q2))\n",
    "ilinx   = alpha * user_lterm[3] + (1 - alpha) * 0.5 * (q1 + q2)"
   ]
  },
  {
   "cell_type": "code",
   "execution_count": 123,
   "metadata": {},
   "outputs": [],
   "source": [
    "user_sterm = user_lterm.copy()\n",
    "user_sterm.loc[\"アゴン(競争を伴う遊び)\"] = agon\n",
    "user_sterm.loc[\"アレア(運やかけを伴う遊び)\"] = alea\n",
    "user_sterm.loc[\"ミミクリ(真似・模倣を伴う遊び)\"] = mimicry\n",
    "user_sterm.loc[\"イリンクス(目眩やスリルを伴う遊び)\"] = ilinx"
   ]
  },
  {
   "cell_type": "code",
   "execution_count": 124,
   "metadata": {},
   "outputs": [
    {
     "data": {
      "text/plain": [
       "アゴン(競争を伴う遊び)          0.02\n",
       "アレア(運やかけを伴う遊び)        0.14\n",
       "ミミクリ(真似・模倣を伴う遊び)      0.08\n",
       "イリンクス(目眩やスリルを伴う遊び)    0.30\n",
       "dtype: float64"
      ]
     },
     "execution_count": 124,
     "metadata": {},
     "output_type": "execute_result"
    }
   ],
   "source": [
    "user_lterm"
   ]
  },
  {
   "cell_type": "code",
   "execution_count": 125,
   "metadata": {},
   "outputs": [
    {
     "data": {
      "text/plain": [
       "アゴン(競争を伴う遊び)          0.1400\n",
       "アレア(運やかけを伴う遊び)        0.1675\n",
       "ミミクリ(真似・模倣を伴う遊び)      0.1850\n",
       "イリンクス(目眩やスリルを伴う遊び)    0.4125\n",
       "dtype: float64"
      ]
     },
     "execution_count": 125,
     "metadata": {},
     "output_type": "execute_result"
    }
   ],
   "source": [
    "user_sterm"
   ]
  },
  {
   "cell_type": "code",
   "execution_count": 126,
   "metadata": {},
   "outputs": [
    {
     "data": {
      "text/plain": [
       "array([0.69931216, 0.29922817, 0.33990808, 0.39056049, 0.40563222,\n",
       "       0.65348106, 0.80500776, 0.34210744, 0.99601079, 0.64578441,\n",
       "       0.88489406, 0.7389435 , 0.325634  , 0.91462424, 0.69320812,\n",
       "       0.39501582, 0.69500899, 0.85383693, 0.38345469, 0.41837483,\n",
       "       0.4806636 , 0.45501374, 0.72044257, 0.77203465, 0.3564232 ,\n",
       "       0.30746951, 0.42371866, 0.23460072, 0.30746951, 0.34718511,\n",
       "       0.30746951, 0.30746951, 0.30746951, 1.06350247, 0.95762075,\n",
       "       0.42371866, 0.37287733, 0.62452982, 0.65843565, 0.57055894,\n",
       "       0.30502049, 0.47700891, 0.51384579, 0.3332229 , 0.59836235,\n",
       "       0.55949754, 0.42371866, 0.50203337, 0.48170271, 0.62212338,\n",
       "       0.89779591])"
      ]
     },
     "execution_count": 126,
     "metadata": {},
     "output_type": "execute_result"
    }
   ],
   "source": [
    "result = np.linalg.norm(data - user_sterm, axis=1)\n",
    "result"
   ]
  },
  {
   "cell_type": "code",
   "execution_count": 127,
   "metadata": {},
   "outputs": [
    {
     "data": {
      "text/plain": [
       "array([27,  1, 40, 25, 28, 30, 32, 31, 12, 43,  2,  7, 29, 24, 36, 18,  3,\n",
       "       15,  4, 19, 35, 26, 46, 21, 41, 20, 48, 47, 42, 45, 39, 44, 49, 37,\n",
       "        9,  5, 38, 14, 16,  0, 22, 11, 23,  6, 17, 10, 50, 13, 34,  8, 33])"
      ]
     },
     "execution_count": 127,
     "metadata": {},
     "output_type": "execute_result"
    }
   ],
   "source": [
    "rank = np.argsort(result)\n",
    "rank"
   ]
  },
  {
   "cell_type": "code",
   "execution_count": 128,
   "metadata": {},
   "outputs": [
    {
     "name": "stdout",
     "output_type": "stream",
     "text": [
      "おすすめ度No.1 >> 日帰りツアー\n",
      "おすすめ度No.2 >> BBQ\n",
      "おすすめ度No.3 >> 博物館・美術館\n",
      "おすすめ度No.4 >> 日帰り温泉\n",
      "おすすめ度No.5 >> 食べ歩き\n"
     ]
    }
   ],
   "source": [
    "print(\"おすすめ度No.1 >> {}\".format(data.iloc[rank[0]].name))\n",
    "print(\"おすすめ度No.2 >> {}\".format(data.iloc[rank[1]].name))\n",
    "print(\"おすすめ度No.3 >> {}\".format(data.iloc[rank[2]].name))\n",
    "print(\"おすすめ度No.4 >> {}\".format(data.iloc[rank[3]].name))\n",
    "print(\"おすすめ度No.5 >> {}\".format(data.iloc[rank[4]].name))"
   ]
  },
  {
   "cell_type": "code",
   "execution_count": null,
   "metadata": {},
   "outputs": [],
   "source": []
  },
  {
   "cell_type": "code",
   "execution_count": null,
   "metadata": {},
   "outputs": [],
   "source": []
  }
 ],
 "metadata": {
  "kernelspec": {
   "display_name": "Python 3",
   "language": "python",
   "name": "python3"
  },
  "language_info": {
   "codemirror_mode": {
    "name": "ipython",
    "version": 3
   },
   "file_extension": ".py",
   "mimetype": "text/x-python",
   "name": "python",
   "nbconvert_exporter": "python",
   "pygments_lexer": "ipython3",
   "version": "3.6.9"
  }
 },
 "nbformat": 4,
 "nbformat_minor": 4
}
