{
 "cells": [
  {
   "cell_type": "code",
   "execution_count": 5,
   "metadata": {},
   "outputs": [],
   "source": [
    "import pickle\n",
    "import numpy as np\n",
    "import pandas as pd\n",
    "import matplotlib.pyplot as plt\n",
    "from sklearn import preprocessing\n",
    "from sklearn.linear_model import Ridge\n",
    "from sklearn.model_selection import cross_val_score\n",
    "from sklearn.model_selection import KFold\n",
    "\n",
    "mm = preprocessing.MinMaxScaler()\n",
    "\n",
    "filename = \"./data/hangout.csv\"\n",
    "data = pd.read_csv(filename, index_col=0)\n",
    "data.iloc[:,:] = mm.fit_transform(data)\n",
    "\n",
    "covid_file = \"./data/covid_risk.csv\"\n",
    "risk_data = pd.read_csv(covid_file, index_col=0)\n",
    "risk_data.iloc[:,:] = mm.fit_transform(risk_data)"
   ]
  },
  {
   "cell_type": "markdown",
   "metadata": {},
   "source": [
    "------------------------------------------------"
   ]
  },
  {
   "cell_type": "markdown",
   "metadata": {},
   "source": [
    "## コロナ危険度予測モデル"
   ]
  },
  {
   "cell_type": "code",
   "execution_count": 7,
   "metadata": {},
   "outputs": [
    {
     "data": {
      "text/html": [
       "<div>\n",
       "<style scoped>\n",
       "    .dataframe tbody tr th:only-of-type {\n",
       "        vertical-align: middle;\n",
       "    }\n",
       "\n",
       "    .dataframe tbody tr th {\n",
       "        vertical-align: top;\n",
       "    }\n",
       "\n",
       "    .dataframe thead th {\n",
       "        text-align: right;\n",
       "    }\n",
       "</style>\n",
       "<table border=\"1\" class=\"dataframe\">\n",
       "  <thead>\n",
       "    <tr style=\"text-align: right;\">\n",
       "      <th></th>\n",
       "      <th>物を共有する</th>\n",
       "      <th>室外?室内?</th>\n",
       "      <th>過疎?密集?</th>\n",
       "    </tr>\n",
       "    <tr>\n",
       "      <th>11段階評価</th>\n",
       "      <th></th>\n",
       "      <th></th>\n",
       "      <th></th>\n",
       "    </tr>\n",
       "  </thead>\n",
       "  <tbody>\n",
       "    <tr>\n",
       "      <th>動画視聴</th>\n",
       "      <td>0.0</td>\n",
       "      <td>1.0</td>\n",
       "      <td>0.0</td>\n",
       "    </tr>\n",
       "    <tr>\n",
       "      <th>麻雀</th>\n",
       "      <td>1.0</td>\n",
       "      <td>1.0</td>\n",
       "      <td>0.5</td>\n",
       "    </tr>\n",
       "    <tr>\n",
       "      <th>図書館</th>\n",
       "      <td>0.8</td>\n",
       "      <td>1.0</td>\n",
       "      <td>0.4</td>\n",
       "    </tr>\n",
       "    <tr>\n",
       "      <th>カフェ・喫茶店</th>\n",
       "      <td>0.0</td>\n",
       "      <td>1.0</td>\n",
       "      <td>0.3</td>\n",
       "    </tr>\n",
       "    <tr>\n",
       "      <th>ラフティング</th>\n",
       "      <td>0.4</td>\n",
       "      <td>0.0</td>\n",
       "      <td>0.6</td>\n",
       "    </tr>\n",
       "    <tr>\n",
       "      <th>パラグライダー</th>\n",
       "      <td>0.1</td>\n",
       "      <td>0.0</td>\n",
       "      <td>0.0</td>\n",
       "    </tr>\n",
       "    <tr>\n",
       "      <th>バンジージャンプ</th>\n",
       "      <td>0.2</td>\n",
       "      <td>0.0</td>\n",
       "      <td>0.2</td>\n",
       "    </tr>\n",
       "    <tr>\n",
       "      <th>スキューバダイビング</th>\n",
       "      <td>0.4</td>\n",
       "      <td>0.0</td>\n",
       "      <td>0.0</td>\n",
       "    </tr>\n",
       "    <tr>\n",
       "      <th>パチンコ・パチスロ</th>\n",
       "      <td>0.9</td>\n",
       "      <td>1.0</td>\n",
       "      <td>0.8</td>\n",
       "    </tr>\n",
       "    <tr>\n",
       "      <th>カメラ</th>\n",
       "      <td>0.0</td>\n",
       "      <td>0.5</td>\n",
       "      <td>0.1</td>\n",
       "    </tr>\n",
       "    <tr>\n",
       "      <th>プラモデル製作</th>\n",
       "      <td>0.0</td>\n",
       "      <td>1.0</td>\n",
       "      <td>0.0</td>\n",
       "    </tr>\n",
       "    <tr>\n",
       "      <th>テレビ・PCゲーム</th>\n",
       "      <td>0.0</td>\n",
       "      <td>1.0</td>\n",
       "      <td>0.0</td>\n",
       "    </tr>\n",
       "    <tr>\n",
       "      <th>ドライブ</th>\n",
       "      <td>0.0</td>\n",
       "      <td>1.0</td>\n",
       "      <td>0.1</td>\n",
       "    </tr>\n",
       "    <tr>\n",
       "      <th>お笑いライブ</th>\n",
       "      <td>0.3</td>\n",
       "      <td>0.5</td>\n",
       "      <td>0.6</td>\n",
       "    </tr>\n",
       "    <tr>\n",
       "      <th>ダーツ</th>\n",
       "      <td>0.7</td>\n",
       "      <td>1.0</td>\n",
       "      <td>0.3</td>\n",
       "    </tr>\n",
       "    <tr>\n",
       "      <th>バッティングセンター</th>\n",
       "      <td>0.7</td>\n",
       "      <td>0.8</td>\n",
       "      <td>0.1</td>\n",
       "    </tr>\n",
       "    <tr>\n",
       "      <th>ゴルフ</th>\n",
       "      <td>0.3</td>\n",
       "      <td>0.0</td>\n",
       "      <td>0.2</td>\n",
       "    </tr>\n",
       "    <tr>\n",
       "      <th>音楽イベント</th>\n",
       "      <td>0.0</td>\n",
       "      <td>1.0</td>\n",
       "      <td>0.6</td>\n",
       "    </tr>\n",
       "    <tr>\n",
       "      <th>読書</th>\n",
       "      <td>0.0</td>\n",
       "      <td>0.5</td>\n",
       "      <td>0.0</td>\n",
       "    </tr>\n",
       "  </tbody>\n",
       "</table>\n",
       "</div>"
      ],
      "text/plain": [
       "            物を共有する  室外?室内?  過疎?密集?\n",
       "11段階評価                            \n",
       "動画視聴           0.0     1.0     0.0\n",
       "麻雀             1.0     1.0     0.5\n",
       "図書館            0.8     1.0     0.4\n",
       "カフェ・喫茶店        0.0     1.0     0.3\n",
       "ラフティング         0.4     0.0     0.6\n",
       "パラグライダー        0.1     0.0     0.0\n",
       "バンジージャンプ       0.2     0.0     0.2\n",
       "スキューバダイビング     0.4     0.0     0.0\n",
       "パチンコ・パチスロ      0.9     1.0     0.8\n",
       "カメラ            0.0     0.5     0.1\n",
       "プラモデル製作        0.0     1.0     0.0\n",
       "テレビ・PCゲーム      0.0     1.0     0.0\n",
       "ドライブ           0.0     1.0     0.1\n",
       "お笑いライブ         0.3     0.5     0.6\n",
       "ダーツ            0.7     1.0     0.3\n",
       "バッティングセンター     0.7     0.8     0.1\n",
       "ゴルフ            0.3     0.0     0.2\n",
       "音楽イベント         0.0     1.0     0.6\n",
       "読書             0.0     0.5     0.0"
      ]
     },
     "execution_count": 7,
     "metadata": {},
     "output_type": "execute_result"
    }
   ],
   "source": [
    "X = risk_data.iloc[:,0:3]\n",
    "y = risk_data.iloc[:,3]\n",
    "X.iloc[51:,0:3]"
   ]
  },
  {
   "cell_type": "code",
   "execution_count": 4,
   "metadata": {},
   "outputs": [
    {
     "name": "stdout",
     "output_type": "stream",
     "text": [
      "3.213936563012778\n"
     ]
    }
   ],
   "source": [
    "kfold = KFold(n_splits=5)\n",
    "scores = cross_val_score(clf, X, y, cv=kfold)\n",
    "print(np.sum(scores))"
   ]
  },
  {
   "cell_type": "code",
   "execution_count": 2,
   "metadata": {},
   "outputs": [],
   "source": [
    "X = risk_data.iloc[:,0:3]\n",
    "y = risk_data.iloc[:,3]\n",
    "clf = Ridge(alpha=0.2)\n",
    "clf.fit(X, y)\n",
    "\n",
    "with open('covid_risk.pickle', 'wb') as f:\n",
    "    pickle.dump(clf, f)"
   ]
  },
  {
   "cell_type": "code",
   "execution_count": 8,
   "metadata": {},
   "outputs": [
    {
     "name": "stdout",
     "output_type": "stream",
     "text": [
      "[4 3 4 5 4 5 2 3 2 1 2 1 2 3 1 2 2 2 3 1 1 2 3 2 4 2 2 3 4 4 2 3 3 2 5 2 3\n",
      " 5 1 3 3 3 2 1 3 4 3 5 5 2 2]\n"
     ]
    }
   ],
   "source": [
    "pred = clf.predict(risk_data.iloc[:,0:3])\n",
    "pred_st = []\n",
    "for i, risk in enumerate(pred):\n",
    "    if risk < 0.2 :\n",
    "        pred_st.append(5)\n",
    "    elif 0.2 <= risk < 0.4:\n",
    "        pred_st.append(4)\n",
    "    elif 0.4 <= risk < 0.6:\n",
    "        pred_st.append(3)\n",
    "    elif 0.6 <= risk < 0.8:\n",
    "        pred_st.append(2)\n",
    "    elif 0.8 <= risk:\n",
    "        pred_st.append(1)\n",
    "print(np.array(pred_st))"
   ]
  },
  {
   "cell_type": "code",
   "execution_count": 9,
   "metadata": {},
   "outputs": [
    {
     "name": "stdout",
     "output_type": "stream",
     "text": [
      "[5 1 5 5 5 5 3 4 1 1 1 1 2 4 1 2 3 3 4 1 1 2 4 4 4 2 1 3 4 4 1 2 3 1 4 2 3\n",
      " 5 1 2 3 2 3 1 4 4 3 5 5 2 1]\n"
     ]
    }
   ],
   "source": [
    "y_st = []\n",
    "for i, risk in enumerate(y):\n",
    "    if risk < 0.2 :\n",
    "        y_st.append(5)\n",
    "    elif 0.2 <= risk < 0.4:\n",
    "        y_st.append(4)\n",
    "    elif 0.4 <= risk < 0.6:\n",
    "        y_st.append(3)\n",
    "    elif 0.6 <= risk < 0.8:\n",
    "        y_st.append(2)\n",
    "    elif 0.8 <= risk:\n",
    "        y_st.append(1)\n",
    "print(np.array(y_st))"
   ]
  },
  {
   "cell_type": "code",
   "execution_count": 153,
   "metadata": {},
   "outputs": [
    {
     "data": {
      "text/plain": [
       "26"
      ]
     },
     "execution_count": 153,
     "metadata": {},
     "output_type": "execute_result"
    }
   ],
   "source": [
    "np.sum(np.abs(np.array(pred_st) - np.array(y_st)))"
   ]
  },
  {
   "cell_type": "code",
   "execution_count": 8,
   "metadata": {},
   "outputs": [],
   "source": [
    "with open('covid_risk.pickle', 'rb') as f:\n",
    "    covid = pickle.load(f)"
   ]
  },
  {
   "cell_type": "code",
   "execution_count": 9,
   "metadata": {},
   "outputs": [
    {
     "name": "stdout",
     "output_type": "stream",
     "text": [
      "[5 1 2 4 3 5 5 5 1 5 5 5 5 3 3 4 5 3 5]\n"
     ]
    }
   ],
   "source": [
    "a = covid.predict(X.iloc[51:,0:3])\n",
    "pred_st = []\n",
    "for i, risk in enumerate(a):\n",
    "    if risk < 0.2 :\n",
    "        pred_st.append(5)\n",
    "    elif 0.2 <= risk < 0.4:\n",
    "        pred_st.append(4)\n",
    "    elif 0.4 <= risk < 0.6:\n",
    "        pred_st.append(3)\n",
    "    elif 0.6 <= risk < 0.8:\n",
    "        pred_st.append(2)\n",
    "    elif 0.8 <= risk:\n",
    "        pred_st.append(1)\n",
    "print(np.array(pred_st))"
   ]
  },
  {
   "cell_type": "markdown",
   "metadata": {},
   "source": [
    "----------------------------------------------------------------"
   ]
  },
  {
   "cell_type": "markdown",
   "metadata": {},
   "source": [
    "## 長期トレンドモデル"
   ]
  },
  {
   "cell_type": "code",
   "execution_count": 5,
   "metadata": {},
   "outputs": [
    {
     "name": "stdout",
     "output_type": "stream",
     "text": [
      "ヨガ教室\n",
      "カラオケ\n",
      "映画館\n",
      "演劇・ミュージカル・ショー\n",
      "料理\n",
      "飲み歩き\n",
      "キャンプ・グランピング\n",
      "動物園\n",
      "陶芸・ガラス・手作り体験\n",
      "花火大会\n",
      "ビリヤード\n",
      "動物園\n",
      "ボードゲーム\n",
      "陶芸・ガラス・手作り体験\n",
      "ハイキング\n",
      "映画館\n",
      "お祭り\n",
      "プラネタリウム\n",
      "天体観測\n",
      "フルーツ狩り\n",
      "カラオケ\n",
      "筋トレ・ジム\n",
      "フルーツ狩り\n",
      "遊園地・テーマパーク\n",
      "キャンプ・グランピング\n",
      "アニマルカフェ\n",
      "花火大会\n",
      "フルーツ狩り\n",
      "ビリヤード\n",
      "ハイキング\n"
     ]
    }
   ],
   "source": [
    "for i in range(30):\n",
    "    rand = np.random.randint(0, len(data))\n",
    "    print(data.index[rand])"
   ]
  },
  {
   "cell_type": "code",
   "execution_count": 6,
   "metadata": {},
   "outputs": [
    {
     "data": {
      "text/html": [
       "<div>\n",
       "<style scoped>\n",
       "    .dataframe tbody tr th:only-of-type {\n",
       "        vertical-align: middle;\n",
       "    }\n",
       "\n",
       "    .dataframe tbody tr th {\n",
       "        vertical-align: top;\n",
       "    }\n",
       "\n",
       "    .dataframe thead th {\n",
       "        text-align: right;\n",
       "    }\n",
       "</style>\n",
       "<table border=\"1\" class=\"dataframe\">\n",
       "  <thead>\n",
       "    <tr style=\"text-align: right;\">\n",
       "      <th></th>\n",
       "      <th>アゴン(競争を伴う遊び)</th>\n",
       "      <th>アレア(運やかけを伴う遊び)</th>\n",
       "      <th>ミミクリ(真似・模倣を伴う遊び)</th>\n",
       "      <th>イリンクス(目眩やスリルを伴う遊び)</th>\n",
       "    </tr>\n",
       "  </thead>\n",
       "  <tbody>\n",
       "    <tr>\n",
       "      <th>ショッピング</th>\n",
       "      <td>0.0</td>\n",
       "      <td>0.0</td>\n",
       "      <td>0.4</td>\n",
       "      <td>0.0</td>\n",
       "    </tr>\n",
       "    <tr>\n",
       "      <th>魚市場</th>\n",
       "      <td>0.0</td>\n",
       "      <td>0.0</td>\n",
       "      <td>0.0</td>\n",
       "      <td>0.3</td>\n",
       "    </tr>\n",
       "    <tr>\n",
       "      <th>日帰り温泉</th>\n",
       "      <td>0.0</td>\n",
       "      <td>0.0</td>\n",
       "      <td>0.0</td>\n",
       "      <td>0.3</td>\n",
       "    </tr>\n",
       "    <tr>\n",
       "      <th>トレッキング</th>\n",
       "      <td>0.0</td>\n",
       "      <td>0.4</td>\n",
       "      <td>0.0</td>\n",
       "      <td>0.8</td>\n",
       "    </tr>\n",
       "    <tr>\n",
       "      <th>ゲームセンター</th>\n",
       "      <td>0.1</td>\n",
       "      <td>0.7</td>\n",
       "      <td>0.0</td>\n",
       "      <td>0.1</td>\n",
       "    </tr>\n",
       "  </tbody>\n",
       "</table>\n",
       "</div>"
      ],
      "text/plain": [
       "         アゴン(競争を伴う遊び)  アレア(運やかけを伴う遊び)  ミミクリ(真似・模倣を伴う遊び)  イリンクス(目眩やスリルを伴う遊び)\n",
       "ショッピング            0.0             0.0               0.4                 0.0\n",
       "魚市場               0.0             0.0               0.0                 0.3\n",
       "日帰り温泉             0.0             0.0               0.0                 0.3\n",
       "トレッキング            0.0             0.4               0.0                 0.8\n",
       "ゲームセンター           0.1             0.7               0.0                 0.1"
      ]
     },
     "execution_count": 6,
     "metadata": {},
     "output_type": "execute_result"
    }
   ],
   "source": [
    "user = data.loc[[\"ショッピング\",\"魚市場\",\"日帰り温泉\",\"トレッキング\",\"ゲームセンター\"]]\n",
    "user"
   ]
  },
  {
   "cell_type": "code",
   "execution_count": 7,
   "metadata": {},
   "outputs": [],
   "source": [
    "user_lterm = user.mean(axis=0)"
   ]
  },
  {
   "cell_type": "code",
   "execution_count": 8,
   "metadata": {},
   "outputs": [
    {
     "data": {
      "text/plain": [
       "アゴン(競争を伴う遊び)          0.02\n",
       "アレア(運やかけを伴う遊び)        0.22\n",
       "ミミクリ(真似・模倣を伴う遊び)      0.08\n",
       "イリンクス(目眩やスリルを伴う遊び)    0.30\n",
       "dtype: float64"
      ]
     },
     "execution_count": 8,
     "metadata": {},
     "output_type": "execute_result"
    }
   ],
   "source": [
    "user_lterm"
   ]
  },
  {
   "cell_type": "code",
   "execution_count": 9,
   "metadata": {},
   "outputs": [
    {
     "data": {
      "text/plain": [
       "array([0.65817931, 0.30854497, 0.28142495, 0.21725561, 0.46389654,\n",
       "       0.7383766 , 0.95561499, 0.38105118, 1.1023611 , 0.53216539,\n",
       "       0.93338095, 0.77923039, 0.32741411, 0.99156442, 0.76889531,\n",
       "       0.24738634, 0.72332565, 0.90066642, 0.48497423, 0.45738387,\n",
       "       0.46604721, 0.38105118, 0.77537088, 0.81067873, 0.25534291,\n",
       "       0.2349468 , 0.30854497, 0.13114877, 0.2349468 , 0.1979899 ,\n",
       "       0.2349468 , 0.2349468 , 0.2349468 , 1.0959927 , 0.83976187,\n",
       "       0.30854497, 0.4014972 , 0.63968742, 0.77923039, 0.65817931,\n",
       "       0.27055499, 0.59933296, 0.49112117, 0.31176915, 0.66573268,\n",
       "       0.66573268, 0.30854497, 0.38105118, 0.53777319, 0.73157365,\n",
       "       1.00856333])"
      ]
     },
     "execution_count": 9,
     "metadata": {},
     "output_type": "execute_result"
    }
   ],
   "source": [
    "result = np.linalg.norm(data - user_lterm, axis=1)\n",
    "result"
   ]
  },
  {
   "cell_type": "code",
   "execution_count": 10,
   "metadata": {},
   "outputs": [
    {
     "data": {
      "text/plain": [
       "array([27, 29,  3, 25, 28, 32, 30, 31, 15, 24, 40,  2,  1, 26, 35, 46, 43,\n",
       "       12,  7, 21, 47, 36, 19,  4, 20, 18, 42,  9, 48, 41, 37, 39,  0, 44,\n",
       "       45, 16, 49,  5, 14, 22, 38, 11, 23, 34, 17, 10,  6, 13, 50, 33,  8])"
      ]
     },
     "execution_count": 10,
     "metadata": {},
     "output_type": "execute_result"
    }
   ],
   "source": [
    "rank = np.argsort(result)\n",
    "rank"
   ]
  },
  {
   "cell_type": "code",
   "execution_count": 11,
   "metadata": {},
   "outputs": [
    {
     "name": "stdout",
     "output_type": "stream",
     "text": [
      "おすすめ度No.1 >> 日帰りツアー\n",
      "おすすめ度No.2 >> フルーツ狩り\n",
      "おすすめ度No.3 >> ハイキング\n",
      "おすすめ度No.4 >> 日帰り温泉\n",
      "おすすめ度No.5 >> 食べ歩き\n"
     ]
    }
   ],
   "source": [
    "print(\"おすすめ度No.1 >> {}\".format(data.iloc[rank[0]].name))\n",
    "print(\"おすすめ度No.2 >> {}\".format(data.iloc[rank[1]].name))\n",
    "print(\"おすすめ度No.3 >> {}\".format(data.iloc[rank[2]].name))\n",
    "print(\"おすすめ度No.4 >> {}\".format(data.iloc[rank[3]].name))\n",
    "print(\"おすすめ度No.5 >> {}\".format(data.iloc[rank[4]].name))"
   ]
  },
  {
   "cell_type": "markdown",
   "metadata": {},
   "source": [
    "----------------------------------------------------------------"
   ]
  },
  {
   "cell_type": "markdown",
   "metadata": {},
   "source": [
    "## 短期トレンドモデル"
   ]
  },
  {
   "cell_type": "markdown",
   "metadata": {},
   "source": [
    "Question1: 非日常を体験したいですか?  \n",
    "0:したくない  …  4:したい\n",
    "\n",
    "Question2: ゆったりのんびり遊びたいですか? エキサイティングな遊びをしたいですか?  \n",
    "0:ゆったりのんびり  …  4:エキサイティング"
   ]
  },
  {
   "cell_type": "code",
   "execution_count": 12,
   "metadata": {},
   "outputs": [],
   "source": [
    "q1 = (3 * 25) / 100\n",
    "q2 = (3 * 25) / 100"
   ]
  },
  {
   "cell_type": "markdown",
   "metadata": {},
   "source": [
    "アゴンの上昇 = q1が低 + q2が高  \n",
    "アレアの上昇 = q1が低 + q2が低  \n",
    "ミミクリの上昇 = q1が高 + q2が低  \n",
    "イリンクスの上昇 = q1が高 + q2が高"
   ]
  },
  {
   "cell_type": "code",
   "execution_count": 13,
   "metadata": {},
   "outputs": [],
   "source": [
    "alpha = 0.75\n",
    "\n",
    "agon    = alpha * user_lterm[0] + (1 - alpha) * 0.5 * ((1-q1) + q2)\n",
    "alea    = alpha * user_lterm[1] + (1 - alpha) * 0.5 * ((1-q1) + (1-q2))\n",
    "mimicry = alpha * user_lterm[2] + (1 - alpha) * 0.5 * (q1 + (1-q2))\n",
    "ilinx   = alpha * user_lterm[3] + (1 - alpha) * 0.5 * (q1 + q2)"
   ]
  },
  {
   "cell_type": "code",
   "execution_count": 14,
   "metadata": {},
   "outputs": [],
   "source": [
    "user_sterm = user_lterm.copy()\n",
    "user_sterm.loc[\"アゴン(競争を伴う遊び)\"] = agon\n",
    "user_sterm.loc[\"アレア(運やかけを伴う遊び)\"] = alea\n",
    "user_sterm.loc[\"ミミクリ(真似・模倣を伴う遊び)\"] = mimicry\n",
    "user_sterm.loc[\"イリンクス(目眩やスリルを伴う遊び)\"] = ilinx"
   ]
  },
  {
   "cell_type": "code",
   "execution_count": 15,
   "metadata": {},
   "outputs": [
    {
     "data": {
      "text/plain": [
       "アゴン(競争を伴う遊び)          0.02\n",
       "アレア(運やかけを伴う遊び)        0.22\n",
       "ミミクリ(真似・模倣を伴う遊び)      0.08\n",
       "イリンクス(目眩やスリルを伴う遊び)    0.30\n",
       "dtype: float64"
      ]
     },
     "execution_count": 15,
     "metadata": {},
     "output_type": "execute_result"
    }
   ],
   "source": [
    "user_lterm"
   ]
  },
  {
   "cell_type": "code",
   "execution_count": 16,
   "metadata": {},
   "outputs": [
    {
     "data": {
      "text/plain": [
       "アゴン(競争を伴う遊び)          0.1400\n",
       "アレア(運やかけを伴う遊び)        0.2275\n",
       "ミミクリ(真似・模倣を伴う遊び)      0.1850\n",
       "イリンクス(目眩やスリルを伴う遊び)    0.4125\n",
       "dtype: float64"
      ]
     },
     "execution_count": 16,
     "metadata": {},
     "output_type": "execute_result"
    }
   ],
   "source": [
    "user_sterm"
   ]
  },
  {
   "cell_type": "code",
   "execution_count": 17,
   "metadata": {},
   "outputs": [
    {
     "data": {
      "text/plain": [
       "array([0.64555209, 0.3365078 , 0.30205546, 0.39017624, 0.43386346,\n",
       "       0.67136987, 0.81959594, 0.37514997, 1.00783803, 0.59727506,\n",
       "       0.88472453, 0.75480958, 0.36019092, 0.90787527, 0.6929917 ,\n",
       "       0.40955769, 0.71185497, 0.86760446, 0.41320394, 0.44579984,\n",
       "       0.50471527, 0.48035143, 0.7367072 , 0.78723408, 0.38824928,\n",
       "       0.3438568 , 0.4508187 , 0.23396047, 0.3438568 , 0.31022169,\n",
       "       0.3438568 , 0.3438568 , 0.3438568 , 1.04054673, 0.90594564,\n",
       "       0.4508187 , 0.40340736, 0.6432243 , 0.67619339, 0.5909632 ,\n",
       "       0.3416687 , 0.50123597, 0.53641169, 0.36706607, 0.61784909,\n",
       "       0.58029088, 0.4508187 , 0.52510713, 0.48346406, 0.64088806,\n",
       "       0.91089928])"
      ]
     },
     "execution_count": 17,
     "metadata": {},
     "output_type": "execute_result"
    }
   ],
   "source": [
    "result = np.linalg.norm(data - user_sterm, axis=1)\n",
    "result"
   ]
  },
  {
   "cell_type": "code",
   "execution_count": 18,
   "metadata": {},
   "outputs": [
    {
     "data": {
      "text/plain": [
       "array([27,  2, 29,  1, 40, 32, 31, 30, 28, 25, 12, 43,  7, 24,  3, 36, 15,\n",
       "       18,  4, 19, 26, 46, 35, 21, 48, 41, 20, 47, 42, 45, 39,  9, 44, 49,\n",
       "       37,  0,  5, 38, 14, 16, 22, 11, 23,  6, 17, 10, 34, 13, 50,  8, 33])"
      ]
     },
     "execution_count": 18,
     "metadata": {},
     "output_type": "execute_result"
    }
   ],
   "source": [
    "rank = np.argsort(result)\n",
    "rank"
   ]
  },
  {
   "cell_type": "code",
   "execution_count": 19,
   "metadata": {},
   "outputs": [
    {
     "name": "stdout",
     "output_type": "stream",
     "text": [
      "おすすめ度No.1 >> 日帰りツアー\n",
      "おすすめ度No.2 >> 天体観測\n",
      "おすすめ度No.3 >> フルーツ狩り\n",
      "おすすめ度No.4 >> BBQ\n",
      "おすすめ度No.5 >> 博物館・美術館\n"
     ]
    }
   ],
   "source": [
    "print(\"おすすめ度No.1 >> {}\".format(data.iloc[rank[0]].name))\n",
    "print(\"おすすめ度No.2 >> {}\".format(data.iloc[rank[1]].name))\n",
    "print(\"おすすめ度No.3 >> {}\".format(data.iloc[rank[2]].name))\n",
    "print(\"おすすめ度No.4 >> {}\".format(data.iloc[rank[3]].name))\n",
    "print(\"おすすめ度No.5 >> {}\".format(data.iloc[rank[4]].name))"
   ]
  }
 ],
 "metadata": {
  "kernelspec": {
   "display_name": "Python 3",
   "language": "python",
   "name": "python3"
  },
  "language_info": {
   "codemirror_mode": {
    "name": "ipython",
    "version": 3
   },
   "file_extension": ".py",
   "mimetype": "text/x-python",
   "name": "python",
   "nbconvert_exporter": "python",
   "pygments_lexer": "ipython3",
   "version": "3.6.9"
  }
 },
 "nbformat": 4,
 "nbformat_minor": 4
}
